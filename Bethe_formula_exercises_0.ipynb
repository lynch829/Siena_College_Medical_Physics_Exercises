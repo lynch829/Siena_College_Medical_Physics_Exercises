{
 "metadata": {
  "name": "",
  "signature": "sha256:0f0b378b80d5bdb986d938b50ea9852a81570c73172cdd8ab3b2def60445ff82"
 },
 "nbformat": 3,
 "nbformat_minor": 0,
 "worksheets": [
  {
   "cells": [
    {
     "cell_type": "markdown",
     "metadata": {},
     "source": [
      "The <a href=\"http://en.wikipedia.org/wiki/Bethe_formula\">Bethe formula</a> describes how much energy a particle with a given amount of energy will lose as it travels through material. It is very useful for understanding how radioactive particles may be used for medical treatments or for knowing how much shielding you will need to block the particles."
     ]
    },
    {
     "cell_type": "heading",
     "level": 5,
     "metadata": {},
     "source": [
      "Question 1"
     ]
    },
    {
     "cell_type": "markdown",
     "metadata": {},
     "source": [
      "Write out the Bethe formula in Markup and below it, list and define the terms in the formula."
     ]
    },
    {
     "cell_type": "markdown",
     "metadata": {},
     "source": []
    },
    {
     "cell_type": "heading",
     "level": 5,
     "metadata": {},
     "source": [
      "Question 2"
     ]
    },
    {
     "cell_type": "markdown",
     "metadata": {},
     "source": [
      "Write a function that takes in the mass of the traversing particle, information about the material it is traversing, and the energy of the traversing particle (as a numpy array), and returns the energy lost per some distance for that particle."
     ]
    },
    {
     "cell_type": "code",
     "collapsed": false,
     "input": [],
     "language": "python",
     "metadata": {},
     "outputs": [],
     "prompt_number": 0
    },
    {
     "cell_type": "heading",
     "level": 5,
     "metadata": {},
     "source": [
      "Question 3"
     ]
    },
    {
     "cell_type": "markdown",
     "metadata": {},
     "source": [
      "Use the above function to make a plot of the energy lost (MeV) per distance traveled (cm) for electrons, muons, kaons, and protons as they traverse liquid water at STP, as a function of energy of the traversing particle. Let the energy range from 10 MeV to 1 TeV (you'll want to plot the x-axis on a log scale."
     ]
    },
    {
     "cell_type": "code",
     "collapsed": false,
     "input": [],
     "language": "python",
     "metadata": {},
     "outputs": [],
     "prompt_number": 0
    },
    {
     "cell_type": "heading",
     "level": 5,
     "metadata": {},
     "source": [
      "Question 4"
     ]
    },
    {
     "cell_type": "markdown",
     "metadata": {},
     "source": [
      "Repeat the above but for iron at STP."
     ]
    },
    {
     "cell_type": "code",
     "collapsed": false,
     "input": [],
     "language": "python",
     "metadata": {},
     "outputs": [],
     "prompt_number": 0
    }
   ],
   "metadata": {}
  }
 ]
}